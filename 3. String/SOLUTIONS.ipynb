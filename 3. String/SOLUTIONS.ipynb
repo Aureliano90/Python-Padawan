{
 "cells": [
  {
   "cell_type": "markdown",
   "source": [
    "## [Mutations](https://www.hackerrank.com/challenges/python-mutations/problem)"
   ],
   "metadata": {
    "collapsed": false
   }
  },
  {
   "cell_type": "code",
   "execution_count": null,
   "metadata": {
    "collapsed": true
   },
   "outputs": [],
   "source": [
    "def mutate_string(string, position, character):\n",
    "    return string[:position] + character + string[position + 1:]"
   ]
  },
  {
   "cell_type": "markdown",
   "source": [
    "## [Capitalize!](https://www.hackerrank.com/challenges/capitalize/problem)"
   ],
   "metadata": {
    "collapsed": false
   }
  },
  {
   "cell_type": "code",
   "execution_count": null,
   "outputs": [],
   "source": [
    "def solve(s):\n",
    "    res = ''\n",
    "    head = True\n",
    "    for c in s:\n",
    "        if c == ' ':\n",
    "            head = True\n",
    "            res += c\n",
    "        elif head:\n",
    "            res += c.upper()\n",
    "            head = False\n",
    "        else:\n",
    "            res += c\n",
    "    return res\n",
    "\n",
    "def solve(s):\n",
    "    return ' '.join([a.capitalize() for a in s.split(' ')])"
   ],
   "metadata": {
    "collapsed": false
   }
  },
  {
   "cell_type": "markdown",
   "source": [
    "## [sWAP cASE](https://www.hackerrank.com/challenges/swap-case/problem)"
   ],
   "metadata": {
    "collapsed": false
   }
  },
  {
   "cell_type": "code",
   "execution_count": null,
   "outputs": [],
   "source": [
    "def swap_case(s: str):\n",
    "    s = list(s)\n",
    "    for i, c in enumerate(s):\n",
    "        if c.isalpha():\n",
    "            if c.islower():\n",
    "                s[i] = c.upper()\n",
    "            else:\n",
    "                s[i] = c.lower()\n",
    "    return ''.join(s)\n",
    "\n",
    "def swap_case(s):\n",
    "   return s.swapcase()"
   ],
   "metadata": {
    "collapsed": false
   }
  },
  {
   "cell_type": "markdown",
   "source": [
    "## [What's Your Name?](https://www.hackerrank.com/challenges/whats-your-name/problem)"
   ],
   "metadata": {
    "collapsed": false
   }
  },
  {
   "cell_type": "code",
   "execution_count": null,
   "outputs": [],
   "source": [
    "def print_full_name(first, last):\n",
    "    print(f\"Hello {first} {last}! You just delved into python.\")"
   ],
   "metadata": {
    "collapsed": false
   }
  },
  {
   "cell_type": "markdown",
   "source": [
    "## [String Formatting](https://www.hackerrank.com/challenges/python-string-formatting/problem)"
   ],
   "metadata": {
    "collapsed": false
   }
  },
  {
   "cell_type": "code",
   "execution_count": null,
   "outputs": [],
   "source": [
    "def print_formatted(number):\n",
    "    print(''.join([f\"{i:{(width := len(f'{number:b}'))}d} {i:{width}o} {i:{width}X} {i:{width}b}\\n\" for i in range(1, number + 1)]))"
   ],
   "metadata": {
    "collapsed": false
   }
  },
  {
   "cell_type": "markdown",
   "source": [
    "## [Time Conversion](https://www.hackerrank.com/challenges/time-conversion/problem)"
   ],
   "metadata": {
    "collapsed": false
   }
  },
  {
   "cell_type": "code",
   "execution_count": null,
   "outputs": [],
   "source": [
    "def timeConversion(s):\n",
    "    return f'{int(s[:2]) + 12}' + s[2: -2] if s.endswith('PM') and s[:2] != '12' else '00' + s[2: -2] if s[-2:] == 'AM' and s[:2] == '12' else s[: -2]"
   ],
   "metadata": {
    "collapsed": false
   }
  }
 ],
 "metadata": {
  "kernelspec": {
   "display_name": "Python 3",
   "language": "python",
   "name": "python3"
  },
  "language_info": {
   "codemirror_mode": {
    "name": "ipython",
    "version": 2
   },
   "file_extension": ".py",
   "mimetype": "text/x-python",
   "name": "python",
   "nbconvert_exporter": "python",
   "pygments_lexer": "ipython2",
   "version": "2.7.6"
  }
 },
 "nbformat": 4,
 "nbformat_minor": 0
}
