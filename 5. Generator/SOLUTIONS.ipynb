{
 "cells": [
  {
   "cell_type": "markdown",
   "source": [
    "## 牛顿近似法"
   ],
   "metadata": {
    "collapsed": false
   }
  },
  {
   "cell_type": "code",
   "execution_count": 1,
   "outputs": [
    {
     "name": "stdout",
     "output_type": "stream",
     "text": [
      "1001110101001000000101101001111010111110011011010101010101010\n",
      "1001110100000010011011010110010000000001011010110101111101011\n",
      "1001110100000010010111011110111111101111000100001010001110110\n",
      "1001110100000010010111011110111111101110010011011111010001000\n"
     ]
    }
   ],
   "source": [
    "from decimal import Decimal\n",
    "\n",
    "PRECISION = Decimal('1e-18')\n",
    "DECIMALS = Decimal('1e18')\n",
    "\n",
    "def newton_sqrt(x, y):\n",
    "    while True:\n",
    "        x = x - (x * x - y) / (2 * x)\n",
    "        yield x\n",
    "\n",
    "prev_x = 0\n",
    "for x in newton_sqrt(Decimal(1.5), Decimal(2)):\n",
    "    if abs(x - prev_x) < PRECISION:\n",
    "        break\n",
    "    print(f'{int(x * DECIMALS):b}')\n",
    "    prev_x = x"
   ],
   "metadata": {
    "collapsed": false
   }
  }
 ],
 "metadata": {
  "kernelspec": {
   "display_name": "Python 3",
   "language": "python",
   "name": "python3"
  },
  "language_info": {
   "codemirror_mode": {
    "name": "ipython",
    "version": 2
   },
   "file_extension": ".py",
   "mimetype": "text/x-python",
   "name": "python",
   "nbconvert_exporter": "python",
   "pygments_lexer": "ipython2",
   "version": "2.7.6"
  }
 },
 "nbformat": 4,
 "nbformat_minor": 0
}
