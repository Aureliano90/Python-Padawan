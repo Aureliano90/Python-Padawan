{
 "cells": [
  {
   "cell_type": "markdown",
   "source": [
    "## [Staircase](https://www.hackerrank.com/challenges/staircase/problem)"
   ],
   "metadata": {
    "collapsed": false
   }
  },
  {
   "cell_type": "code",
   "execution_count": null,
   "metadata": {
    "collapsed": true
   },
   "outputs": [],
   "source": [
    "def staircase(n):\n",
    "    print(*[' ' * (n - i - 1) + '#' * (i + 1) for i in range(n)], sep='\\n')"
   ]
  },
  {
   "cell_type": "markdown",
   "source": [
    "## [Plus Minus](https://www.hackerrank.com/challenges/plus-minus/problem)"
   ],
   "metadata": {
    "collapsed": false
   }
  },
  {
   "cell_type": "code",
   "execution_count": null,
   "outputs": [],
   "source": [
    "def plusMinus(arr):\n",
    "    print(f'{len([x for x in arr if x > 0]) / len(arr):.6f}', f'{len([x for x in arr if x < 0]) / len(arr):.6f}', f'{len([x for x in arr if x == 0]) / len(arr):.6f}', sep='\\n')"
   ],
   "metadata": {
    "collapsed": false
   }
  },
  {
   "cell_type": "markdown",
   "source": [
    "## [Compare the Triplets](https://www.hackerrank.com/challenges/compare-the-triplets/problem)"
   ],
   "metadata": {
    "collapsed": false
   }
  },
  {
   "cell_type": "code",
   "execution_count": null,
   "outputs": [],
   "source": [
    "def compareTriplets(a, b):\n",
    "    return [sum([sign * a[i] > sign * b[i] for i in range(len(a))]) for sign in [1, -1]]"
   ],
   "metadata": {
    "collapsed": false
   }
  },
  {
   "cell_type": "markdown",
   "source": [
    "## [Sequence Equation](https://www.hackerrank.com/challenges/permutation-equation/problem)"
   ],
   "metadata": {
    "collapsed": false
   }
  },
  {
   "cell_type": "code",
   "execution_count": null,
   "outputs": [],
   "source": [
    "def permutationEquation(p):\n",
    "    return sorted(p, key=lambda y: p[p[y - 1] - 1])"
   ],
   "metadata": {
    "collapsed": false
   }
  },
  {
   "cell_type": "markdown",
   "source": [
    "## [List Comprehensions](https://www.hackerrank.com/challenges/list-comprehensions/problem)"
   ],
   "metadata": {
    "collapsed": false
   }
  },
  {
   "cell_type": "code",
   "execution_count": null,
   "outputs": [],
   "source": [
    "if __name__ == '__main__':\n",
    "    x, y, z, n = int(input()), int(input()), int(input()), int(input())\n",
    "    print([[i, j, k] for i in range(x+1) for j in range(y+1) for k in range(z+1) if i+j+k != n])"
   ],
   "metadata": {
    "collapsed": false
   }
  },
  {
   "cell_type": "markdown",
   "source": [
    "## [Nested Lists](https://www.hackerrank.com/challenges/nested-list/problem)"
   ],
   "metadata": {
    "collapsed": false
   }
  },
  {
   "cell_type": "code",
   "execution_count": null,
   "outputs": [],
   "source": [
    "if __name__ == '__main__':\n",
    "    records = sorted([tuple(reversed((input(), float(input())))) for _ in range(int(input()))])\n",
    "    print('\\n'.join([r[1] for r in records if r[0] == sorted(set([r[0] for r in records]))[1]]))"
   ],
   "metadata": {
    "collapsed": false
   }
  }
 ],
 "metadata": {
  "kernelspec": {
   "display_name": "Python 3",
   "language": "python",
   "name": "python3"
  },
  "language_info": {
   "codemirror_mode": {
    "name": "ipython",
    "version": 2
   },
   "file_extension": ".py",
   "mimetype": "text/x-python",
   "name": "python",
   "nbconvert_exporter": "python",
   "pygments_lexer": "ipython2",
   "version": "2.7.6"
  }
 },
 "nbformat": 4,
 "nbformat_minor": 0
}
